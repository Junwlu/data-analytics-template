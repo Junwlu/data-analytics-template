{
 "cells": [
  {
   "cell_type": "code",
   "execution_count": 1,
   "metadata": {},
   "outputs": [
    {
     "name": "stdout",
     "output_type": "stream",
     "text": [
      "                             Game_Title      Platform Release_Date  \\\n",
      "0  The Legend of Zelda: Ocarina of Time    Nintendo64          NaT   \n",
      "1              Tony Hawk's Pro Skater 2   PlayStation          NaT   \n",
      "2                   Grand Theft Auto IV  PlayStation3          NaT   \n",
      "3                           SoulCalibur     Dreamcast          NaT   \n",
      "4                   Grand Theft Auto IV       Xbox360          NaT   \n",
      "\n",
      "   Meta_Score User_Score  \n",
      "0          99        9.1  \n",
      "1          98        7.4  \n",
      "2          98        7.6  \n",
      "3          98        8.5  \n",
      "4          98        7.9  \n",
      "                 Game_Title Platform Publisher  NA_Sales  EU_Sales  JP_Sales  \\\n",
      "0                Wii Sports      Wii  Nintendo     41.49     29.02      3.77   \n",
      "1         Super Mario Bros.      NES  Nintendo     29.08      3.58      6.81   \n",
      "2            Mario Kart Wii      Wii  Nintendo     15.85     12.88      3.79   \n",
      "3         Wii Sports Resort      Wii  Nintendo     15.75     11.01      3.28   \n",
      "4  Pokemon Red/Pokemon Blue       GB  Nintendo     11.27      8.89     10.22   \n",
      "\n",
      "   Other_Sales  Global_Sales  \n",
      "0         8.46         82.74  \n",
      "1         0.77         40.24  \n",
      "2         3.31         35.82  \n",
      "3         2.96         33.00  \n",
      "4         1.00         31.37  \n"
     ]
    }
   ],
   "source": [
    "import pandas as pd\n",
    "\n",
    "# Set locale to English for date parsing\n",
    "import locale\n",
    "locale.setlocale(locale.LC_TIME, \"en_US.UTF-8\")\n",
    "\n",
    "# Load the dataset\n",
    "input_file = \"metacritic.csv\"\n",
    "df = pd.read_csv(input_file, sep=\",\")\n",
    "\n",
    "# Select and rename relevant columns\n",
    "df = df.drop(columns=[\"developer\", \"genre\", \"players\", \"critics\", \"users\"], errors='ignore')\n",
    "df.columns = [\"Game_Title\", \"Platform\", \"Release_Date\", \"Meta_Score\", \"User_Score\"]\n",
    "\n",
    "# Convert Release_Date to datetime format\n",
    "df[\"Release_Date\"] = pd.to_datetime(df[\"Release_Date\"], format=\"%b %d, %Y\", errors='coerce')\n",
    "\n",
    "# Print the first few rows of the cleaned data\n",
    "print(df.head())\n",
    "\n",
    "# Save the cleaned data to a new CSV file\n",
    "df.to_csv(\"metacritic_clean.csv\", index=False)\n",
    "\n",
    "# Load the second dataset\n",
    "df2 = pd.read_csv(\"vgsales.csv\", sep=\",\")\n",
    "\n",
    "# Drop unnecessary columns\n",
    "df2 = df2.drop(columns=[\"Genre\", \"Rank\", \"Year\"], errors='ignore')\n",
    "\n",
    "# Rename \"Name\" column to \"Game_Title\"\n",
    "df2 = df2.rename(columns={\"Name\": \"Game_Title\"})\n",
    "\n",
    "# Print the first few rows of the cleaned data\n",
    "print(df2.head())\n",
    "\n",
    "# Save the cleaned data to a new CSV file\n",
    "df2.to_csv(\"vgsales_clean.csv\", index=False)\n",
    "\n"
   ]
  },
  {
   "cell_type": "code",
   "execution_count": null,
   "metadata": {},
   "outputs": [],
   "source": []
  }
 ],
 "metadata": {
  "kernelspec": {
   "display_name": "Python 3",
   "language": "python",
   "name": "python3"
  },
  "language_info": {
   "codemirror_mode": {
    "name": "ipython",
    "version": 3
   },
   "file_extension": ".py",
   "mimetype": "text/x-python",
   "name": "python",
   "nbconvert_exporter": "python",
   "pygments_lexer": "ipython3",
   "version": "3.9.1"
  }
 },
 "nbformat": 4,
 "nbformat_minor": 1
}